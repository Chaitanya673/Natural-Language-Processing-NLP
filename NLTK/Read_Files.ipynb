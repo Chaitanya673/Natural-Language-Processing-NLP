{
  "cells": [
    {
      "metadata": {
        "trusted": true
      },
      "cell_type": "code",
      "source": "! pip install --upgrade pip",
      "execution_count": 33,
      "outputs": [
        {
          "output_type": "stream",
          "text": "Requirement already up-to-date: pip in /home/nbuser/anaconda3_501/lib/python3.6/site-packages (19.2.3)\r\n",
          "name": "stdout"
        }
      ]
    },
    {
      "metadata": {
        "trusted": true
      },
      "cell_type": "code",
      "source": "import os\nos.getcwd()",
      "execution_count": 4,
      "outputs": [
        {
          "output_type": "execute_result",
          "execution_count": 4,
          "data": {
            "text/plain": "'/home/nbuser/library'"
          },
          "metadata": {}
        }
      ]
    },
    {
      "metadata": {
        "trusted": true
      },
      "cell_type": "code",
      "source": "import nltk\nnltk.download('punkt')",
      "execution_count": 26,
      "outputs": [
        {
          "output_type": "stream",
          "text": "[nltk_data] Downloading package punkt to /home/nbuser/nltk_data...\n[nltk_data]   Package punkt is already up-to-date!\n",
          "name": "stdout"
        },
        {
          "output_type": "execute_result",
          "execution_count": 26,
          "data": {
            "text/plain": "True"
          },
          "metadata": {}
        }
      ]
    },
    {
      "metadata": {},
      "cell_type": "markdown",
      "source": "## 1. Read Text"
    },
    {
      "metadata": {
        "trusted": true
      },
      "cell_type": "code",
      "source": "from nltk.tokenize import word_tokenize\n\nmy_text = \"Hi Learner! Welcome to NLP (Natural Language Processing) with Python. Here you will learn text mining and processing on natural language data. Are you aware about the Python basics? \"\nprint(my_text)",
      "execution_count": 28,
      "outputs": [
        {
          "output_type": "stream",
          "text": "Hi Learner! Welcome to NLP (Natural Language Processing) with Python. Here you will learn text mining and processing on natural language data. Are you aware about the Python basics? \n",
          "name": "stdout"
        }
      ]
    },
    {
      "metadata": {},
      "cell_type": "markdown",
      "source": "## 2. Read a Text File"
    },
    {
      "metadata": {
        "trusted": true
      },
      "cell_type": "code",
      "source": "text_file=open(\"demo_text.txt\",'r')\ntext_file.read()",
      "execution_count": 16,
      "outputs": [
        {
          "output_type": "execute_result",
          "execution_count": 16,
          "data": {
            "text/plain": "'Hi Learner! Welcome to NLP (Natural Language Processing) with Python. Here you will learn text mining and processing on natural language data. Are you aware about the Python basics? '"
          },
          "metadata": {}
        }
      ]
    },
    {
      "metadata": {},
      "cell_type": "markdown",
      "source": "## 3. Read a Docx File"
    },
    {
      "metadata": {
        "trusted": true
      },
      "cell_type": "code",
      "source": "!pip install python-docx ",
      "execution_count": 18,
      "outputs": [
        {
          "output_type": "stream",
          "text": "Collecting python-docx\n\u001b[?25l  Downloading https://files.pythonhosted.org/packages/e4/83/c66a1934ed5ed8ab1dbb9931f1779079f8bca0f6bbc5793c06c4b5e7d671/python-docx-0.8.10.tar.gz (5.5MB)\n\u001b[K     |████████████████████████████████| 5.5MB 120kB/s eta 0:00:01\n\u001b[?25hRequirement already satisfied: lxml>=2.3.2 in /home/nbuser/anaconda3_501/lib/python3.6/site-packages (from python-docx) (4.2.5)\nBuilding wheels for collected packages: python-docx\n  Building wheel for python-docx (setup.py) ... \u001b[?25ldone\n\u001b[?25h  Created wheel for python-docx: filename=python_docx-0.8.10-cp36-none-any.whl size=188005 sha256=80400c309ab6a54bb1dfcd9d175eba204e8ec49a1bfe8052019c2b80c97fd26b\n  Stored in directory: /home/nbuser/.cache/pip/wheels/18/0b/a0/1dd62ff812c857c9e487f27d80d53d2b40531bec1acecfa47b\nSuccessfully built python-docx\nInstalling collected packages: python-docx\nSuccessfully installed python-docx-0.8.10\n\u001b[33mWARNING: You are using pip version 19.2.2, however version 19.2.3 is available.\nYou should consider upgrading via the 'pip install --upgrade pip' command.\u001b[0m\n",
          "name": "stdout"
        }
      ]
    },
    {
      "metadata": {
        "trusted": true
      },
      "cell_type": "code",
      "source": "import docx\ndoc_file = docx.Document(\"demo_word.docx\")",
      "execution_count": 20,
      "outputs": []
    },
    {
      "metadata": {
        "trusted": true
      },
      "cell_type": "code",
      "source": "len(doc_file.paragraphs)",
      "execution_count": 23,
      "outputs": [
        {
          "output_type": "execute_result",
          "execution_count": 23,
          "data": {
            "text/plain": "1"
          },
          "metadata": {}
        }
      ]
    },
    {
      "metadata": {
        "trusted": true
      },
      "cell_type": "code",
      "source": "for para in doc_file.paragraphs:\n    print(para.text)",
      "execution_count": 29,
      "outputs": [
        {
          "output_type": "stream",
          "text": "Hi Learner!! Welcome to NLP (Natural Language Processing) with Python. Here you will learn text mining and processing on natural language data. Are you aware about the Python basics? \n",
          "name": "stdout"
        }
      ]
    },
    {
      "metadata": {},
      "cell_type": "markdown",
      "source": "## 4. Read a PDF File"
    },
    {
      "metadata": {
        "trusted": true
      },
      "cell_type": "code",
      "source": "! pip install PyPDF2",
      "execution_count": 30,
      "outputs": [
        {
          "output_type": "stream",
          "text": "Collecting PyPDF2\n\u001b[?25l  Downloading https://files.pythonhosted.org/packages/b4/01/68fcc0d43daf4c6bdbc6b33cc3f77bda531c86b174cac56ef0ffdb96faab/PyPDF2-1.26.0.tar.gz (77kB)\n\u001b[K     |████████████████████████████████| 81kB 3.9MB/s eta 0:00:011\n\u001b[?25hBuilding wheels for collected packages: PyPDF2\n  Building wheel for PyPDF2 (setup.py) ... \u001b[?25ldone\n\u001b[?25h  Created wheel for PyPDF2: filename=PyPDF2-1.26.0-cp36-none-any.whl size=61253 sha256=a6f08490704579b618c1fce38c081de1f72439c242e28155359e9981b3e6076f\n  Stored in directory: /home/nbuser/.cache/pip/wheels/53/84/19/35bc977c8bf5f0c23a8a011aa958acd4da4bbd7a229315c1b7\nSuccessfully built PyPDF2\nInstalling collected packages: PyPDF2\nSuccessfully installed PyPDF2-1.26.0\n\u001b[33mWARNING: You are using pip version 19.2.2, however version 19.2.3 is available.\nYou should consider upgrading via the 'pip install --upgrade pip' command.\u001b[0m\n",
          "name": "stdout"
        }
      ]
    },
    {
      "metadata": {
        "trusted": true
      },
      "cell_type": "code",
      "source": "import PyPDF2\npdf_file = open('demo_pdf.pdf', 'rb')\nread_pdf = PyPDF2.PdfFileReader(pdf_file)\nnumber_of_pages = read_pdf.getNumPages()\nfor x in range(number_of_pages):\n    page = read_pdf.getPage(x)\n    page_content = page.extractText()\n    print(page_content.encode('utf-8'))\n    print(number_of_pages)",
      "execution_count": 41,
      "outputs": [
        {
          "output_type": "stream",
          "text": "b'Hi Learner!! \\nWelcome to NLP (Natural La\\nnguage Processing) with Python. \\nHere you will learn text mining \\nand processing on natural language data.\\n \\nAre you aware about the Python basics? \\n \\n \\n \\n \\n \\n \\n \\n \\n \\n \\n \\n \\n \\n \\n \\n \\n \\n \\n \\n \\n \\n \\n \\n \\n \\n \\n \\n \\n'\n2\nb'Hi Learner!! \\nWelcome to NLP (Natural La\\nnguage Processing) with Python. \\nHere you will learn text mining \\nand processing on natural language data.\\n \\nAre you aware about the Python basics? \\n \\n \\n \\n'\n2\n",
          "name": "stdout"
        }
      ]
    }
  ],
  "metadata": {
    "kernelspec": {
      "name": "python36",
      "display_name": "Python 3.6",
      "language": "python"
    },
    "language_info": {
      "mimetype": "text/x-python",
      "nbconvert_exporter": "python",
      "name": "python",
      "pygments_lexer": "ipython3",
      "version": "3.6.6",
      "file_extension": ".py",
      "codemirror_mode": {
        "version": 3,
        "name": "ipython"
      }
    }
  },
  "nbformat": 4,
  "nbformat_minor": 2
}