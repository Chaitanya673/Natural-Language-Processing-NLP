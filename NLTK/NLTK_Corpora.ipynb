{
  "cells": [
    {
      "metadata": {
        "trusted": true
      },
      "cell_type": "code",
      "source": "import os\nimport nltk\nimport nltk.corpus",
      "execution_count": 1,
      "outputs": []
    },
    {
      "metadata": {
        "trusted": true
      },
      "cell_type": "code",
      "source": "nltk.download('inaugural')",
      "execution_count": 2,
      "outputs": [
        {
          "output_type": "stream",
          "text": "[nltk_data] Downloading package inaugural to /home/nbuser/nltk_data...\n[nltk_data]   Unzipping corpora/inaugural.zip.\n",
          "name": "stdout"
        },
        {
          "output_type": "execute_result",
          "execution_count": 2,
          "data": {
            "text/plain": "True"
          },
          "metadata": {}
        }
      ]
    },
    {
      "metadata": {
        "trusted": true
      },
      "cell_type": "code",
      "source": "from nltk.corpus import inaugural",
      "execution_count": 3,
      "outputs": []
    },
    {
      "metadata": {
        "trusted": true
      },
      "cell_type": "code",
      "source": "nltk.corpus.inaugural.fileids()",
      "execution_count": 4,
      "outputs": [
        {
          "output_type": "execute_result",
          "execution_count": 4,
          "data": {
            "text/plain": "['1789-Washington.txt',\n '1793-Washington.txt',\n '1797-Adams.txt',\n '1801-Jefferson.txt',\n '1805-Jefferson.txt',\n '1809-Madison.txt',\n '1813-Madison.txt',\n '1817-Monroe.txt',\n '1821-Monroe.txt',\n '1825-Adams.txt',\n '1829-Jackson.txt',\n '1833-Jackson.txt',\n '1837-VanBuren.txt',\n '1841-Harrison.txt',\n '1845-Polk.txt',\n '1849-Taylor.txt',\n '1853-Pierce.txt',\n '1857-Buchanan.txt',\n '1861-Lincoln.txt',\n '1865-Lincoln.txt',\n '1869-Grant.txt',\n '1873-Grant.txt',\n '1877-Hayes.txt',\n '1881-Garfield.txt',\n '1885-Cleveland.txt',\n '1889-Harrison.txt',\n '1893-Cleveland.txt',\n '1897-McKinley.txt',\n '1901-McKinley.txt',\n '1905-Roosevelt.txt',\n '1909-Taft.txt',\n '1913-Wilson.txt',\n '1917-Wilson.txt',\n '1921-Harding.txt',\n '1925-Coolidge.txt',\n '1929-Hoover.txt',\n '1933-Roosevelt.txt',\n '1937-Roosevelt.txt',\n '1941-Roosevelt.txt',\n '1945-Roosevelt.txt',\n '1949-Truman.txt',\n '1953-Eisenhower.txt',\n '1957-Eisenhower.txt',\n '1961-Kennedy.txt',\n '1965-Johnson.txt',\n '1969-Nixon.txt',\n '1973-Nixon.txt',\n '1977-Carter.txt',\n '1981-Reagan.txt',\n '1985-Reagan.txt',\n '1989-Bush.txt',\n '1993-Clinton.txt',\n '1997-Clinton.txt',\n '2001-Bush.txt',\n '2005-Bush.txt',\n '2009-Obama.txt',\n '2013-Obama.txt',\n '2017-Trump.txt']"
          },
          "metadata": {}
        }
      ]
    },
    {
      "metadata": {
        "trusted": true
      },
      "cell_type": "code",
      "source": "words = inaugural.words('2009-Obama.txt')\nwords",
      "execution_count": 5,
      "outputs": [
        {
          "output_type": "execute_result",
          "execution_count": 5,
          "data": {
            "text/plain": "['My', 'fellow', 'citizens', ':', 'I', 'stand', 'here', ...]"
          },
          "metadata": {}
        }
      ]
    },
    {
      "metadata": {
        "trusted": true
      },
      "cell_type": "code",
      "source": "l1 = len(inaugural.words('2009-Obama.txt'))\nl1",
      "execution_count": 6,
      "outputs": [
        {
          "output_type": "execute_result",
          "execution_count": 6,
          "data": {
            "text/plain": "2726"
          },
          "metadata": {}
        }
      ]
    },
    {
      "metadata": {
        "trusted": true
      },
      "cell_type": "code",
      "source": "for word in words[:500]:\n    print(word, sep =\" \", end = \" \")",
      "execution_count": 7,
      "outputs": [
        {
          "output_type": "stream",
          "text": "My fellow citizens : I stand here today humbled by the task before us , grateful for the trust you have bestowed , mindful of the sacrifices borne by our ancestors . I thank President Bush for his service to our nation , as well as the generosity and cooperation he has shown throughout this transition . Forty - four Americans have now taken the presidential oath . The words have been spoken during rising tides of prosperity and the still waters of peace . Yet , every so often the oath is taken amidst gathering clouds and raging storms . At these moments , America has carried on not simply because of the skill or vision of those in high office , but because We the People have remained faithful to the ideals of our forbearers , and true to our founding documents . So it has been . So it must be with this generation of Americans . That we are in the midst of crisis is now well understood . Our nation is at war , against a far - reaching network of violence and hatred . Our economy is badly weakened , a consequence of greed and irresponsibility on the part of some , but also our collective failure to make hard choices and prepare the nation for a new age . Homes have been lost ; jobs shed ; businesses shuttered . Our health care is too costly ; our schools fail too many ; and each day brings further evidence that the ways we use energy strengthen our adversaries and threaten our planet . These are the indicators of crisis , subject to data and statistics . Less measurable but no less profound is a sapping of confidence across our land -- a nagging fear that America ' s decline is inevitable , that the next generation must lower its sights . Today I say to you that the challenges we face are real . They are serious and they are many . They will not be met easily or in a short span of time . But know this , America -- they will be met . On this day , we gather because we have chosen hope over fear , unity of purpose over conflict and discord . On this day , we come to proclaim an end to the petty grievances and false promises , the recriminations and worn - out dogmas that for far too long have strangled our politics . We remain a young nation , but in the words of Scripture , the time has come to set aside childish things . The time has come to reaffirm our enduring spirit ; to choose our better history ; to carry forward that precious gift , that noble idea , passed on from generation to generation : the God - given promise that all are equal , all are free , and all deserve a chance to pursue their ",
          "name": "stdout"
        }
      ]
    },
    {
      "metadata": {
        "trusted": true
      },
      "cell_type": "code",
      "source": "nltk.download('twitter_samples')",
      "execution_count": 9,
      "outputs": [
        {
          "output_type": "stream",
          "text": "[nltk_data] Downloading package twitter_samples to\n[nltk_data]     /home/nbuser/nltk_data...\n[nltk_data]   Unzipping corpora/twitter_samples.zip.\n",
          "name": "stdout"
        },
        {
          "output_type": "execute_result",
          "execution_count": 9,
          "data": {
            "text/plain": "True"
          },
          "metadata": {}
        }
      ]
    },
    {
      "metadata": {
        "trusted": true
      },
      "cell_type": "code",
      "source": "from nltk.corpus import twitter_samples",
      "execution_count": 11,
      "outputs": []
    },
    {
      "metadata": {
        "trusted": true
      },
      "cell_type": "code",
      "source": "nltk.corpus.twitter_samples.fileids()",
      "execution_count": 13,
      "outputs": [
        {
          "output_type": "execute_result",
          "execution_count": 13,
          "data": {
            "text/plain": "['negative_tweets.json', 'positive_tweets.json', 'tweets.20150430-223406.json']"
          },
          "metadata": {}
        }
      ]
    }
  ],
  "metadata": {
    "kernelspec": {
      "name": "python36",
      "display_name": "Python 3.6",
      "language": "python"
    },
    "language_info": {
      "mimetype": "text/x-python",
      "nbconvert_exporter": "python",
      "name": "python",
      "pygments_lexer": "ipython3",
      "version": "3.6.6",
      "file_extension": ".py",
      "codemirror_mode": {
        "version": 3,
        "name": "ipython"
      }
    }
  },
  "nbformat": 4,
  "nbformat_minor": 1
}