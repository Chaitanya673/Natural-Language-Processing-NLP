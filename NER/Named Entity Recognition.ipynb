{
  "cells": [
    {
      "metadata": {
        "trusted": true
      },
      "cell_type": "code",
      "source": "article = '''\nAsian shares skidded on Tuesday after a rout in tech stocks put Wall Street to the sword, while a \nsharp drop in oil prices and political risks in Europe pushed the dollar to 16-month highs as investors dumped \nriskier assets. MSCI’s broadest index of Asia-Pacific shares outside Japan dropped 1.7 percent to a 1-1/2 \nweek trough, with Australian shares sinking 1.6 percent. Japan’s Nikkei dived 3.1 percent led by losses in \nelectric machinery makers and suppliers of Apple’s iphone parts. Sterling fell to $1.286 after three straight \nsessions of losses took it to the lowest since Nov.1 as there were still considerable unresolved issues with the\nEuropean Union over Brexit, British Prime Minister Theresa May said on Monday.'''",
      "execution_count": 2,
      "outputs": []
    },
    {
      "metadata": {
        "trusted": true
      },
      "cell_type": "code",
      "source": "import nltk\nfrom nltk import word_tokenize, pos_tag, ne_chunk\nfrom nltk.chunk import conlltags2tree, tree2conlltags\nfrom pprint import pprint",
      "execution_count": 4,
      "outputs": []
    },
    {
      "metadata": {
        "trusted": true
      },
      "cell_type": "code",
      "source": "nltk.download('words')\nnltk.download('averaged_perceptron_tagger')\nnltk.download('punkt')\nnltk.download('maxent_ne_chunker')",
      "execution_count": 6,
      "outputs": [
        {
          "output_type": "stream",
          "text": "[nltk_data] Downloading package words to /home/nbuser/nltk_data...\n[nltk_data]   Package words is already up-to-date!\n[nltk_data] Downloading package averaged_perceptron_tagger to\n[nltk_data]     /home/nbuser/nltk_data...\n[nltk_data]   Package averaged_perceptron_tagger is already up-to-\n[nltk_data]       date!\n[nltk_data] Downloading package punkt to /home/nbuser/nltk_data...\n[nltk_data]   Package punkt is already up-to-date!\n[nltk_data] Downloading package maxent_ne_chunker to\n[nltk_data]     /home/nbuser/nltk_data...\n[nltk_data]   Package maxent_ne_chunker is already up-to-date!\n",
          "name": "stdout"
        },
        {
          "output_type": "execute_result",
          "execution_count": 6,
          "data": {
            "text/plain": "True"
          },
          "metadata": {}
        }
      ]
    },
    {
      "metadata": {
        "trusted": true
      },
      "cell_type": "code",
      "source": "print('NTLK version: %s' % (nltk.__version__))",
      "execution_count": 8,
      "outputs": [
        {
          "output_type": "stream",
          "text": "NTLK version: 3.3\n",
          "name": "stdout"
        }
      ]
    },
    {
      "metadata": {
        "trusted": true
      },
      "cell_type": "code",
      "source": "def fn_preprocess(art):\n    art = nltk.word_tokenize(art)\n    art = nltk.pos_tag(art)\n\n    return art\n\nart_processed = fn_preprocess(article)\nprint(art_processed)",
      "execution_count": 20,
      "outputs": [
        {
          "output_type": "stream",
          "text": "[('Asian', 'JJ'), ('shares', 'NNS'), ('skidded', 'VBN'), ('on', 'IN'), ('Tuesday', 'NNP'), ('after', 'IN'), ('a', 'DT'), ('rout', 'NN'), ('in', 'IN'), ('tech', 'JJ'), ('stocks', 'NNS'), ('put', 'VBD'), ('Wall', 'NNP'), ('Street', 'NNP'), ('to', 'TO'), ('the', 'DT'), ('sword', 'NN'), (',', ','), ('while', 'IN'), ('a', 'DT'), ('sharp', 'JJ'), ('drop', 'NN'), ('in', 'IN'), ('oil', 'NN'), ('prices', 'NNS'), ('and', 'CC'), ('political', 'JJ'), ('risks', 'NNS'), ('in', 'IN'), ('Europe', 'NNP'), ('pushed', 'VBD'), ('the', 'DT'), ('dollar', 'NN'), ('to', 'TO'), ('16-month', 'JJ'), ('highs', 'NNS'), ('as', 'IN'), ('investors', 'NNS'), ('dumped', 'VBD'), ('riskier', 'JJR'), ('assets', 'NNS'), ('.', '.'), ('MSCI', 'NNP'), ('’', 'NNP'), ('s', 'VBD'), ('broadest', 'JJS'), ('index', 'NN'), ('of', 'IN'), ('Asia-Pacific', 'NNP'), ('shares', 'NNS'), ('outside', 'IN'), ('Japan', 'NNP'), ('dropped', 'VBD'), ('1.7', 'CD'), ('percent', 'NN'), ('to', 'TO'), ('a', 'DT'), ('1-1/2', 'JJ'), ('week', 'NN'), ('trough', 'NN'), (',', ','), ('with', 'IN'), ('Australian', 'JJ'), ('shares', 'NNS'), ('sinking', 'VBG'), ('1.6', 'CD'), ('percent', 'NN'), ('.', '.'), ('Japan', 'NNP'), ('’', 'NNP'), ('s', 'VBD'), ('Nikkei', 'NNP'), ('dived', 'VBD'), ('3.1', 'CD'), ('percent', 'NN'), ('led', 'VBN'), ('by', 'IN'), ('losses', 'NNS'), ('in', 'IN'), ('electric', 'JJ'), ('machinery', 'NN'), ('makers', 'NNS'), ('and', 'CC'), ('suppliers', 'NNS'), ('of', 'IN'), ('Apple', 'NNP'), ('’', 'NNP'), ('s', 'VBD'), ('iphone', 'NN'), ('parts', 'NNS'), ('.', '.'), ('Sterling', 'NN'), ('fell', 'VBD'), ('to', 'TO'), ('$', '$'), ('1.286', 'CD'), ('after', 'IN'), ('three', 'CD'), ('straight', 'JJ'), ('sessions', 'NNS'), ('of', 'IN'), ('losses', 'NNS'), ('took', 'VBD'), ('it', 'PRP'), ('to', 'TO'), ('the', 'DT'), ('lowest', 'JJS'), ('since', 'IN'), ('Nov.1', 'NNP'), ('as', 'IN'), ('there', 'EX'), ('were', 'VBD'), ('still', 'RB'), ('considerable', 'JJ'), ('unresolved', 'JJ'), ('issues', 'NNS'), ('with', 'IN'), ('the', 'DT'), ('European', 'NNP'), ('Union', 'NNP'), ('over', 'IN'), ('Brexit', 'NNP'), (',', ','), ('British', 'NNP'), ('Prime', 'NNP'), ('Minister', 'NNP'), ('Theresa', 'NNP'), ('May', 'NNP'), ('said', 'VBD'), ('on', 'IN'), ('Monday', 'NNP'), ('.', '.')]\n",
          "name": "stdout"
        }
      ]
    },
    {
      "metadata": {
        "trusted": true
      },
      "cell_type": "code",
      "source": "results = ne_chunk(art_processed)\nprint(results)",
      "execution_count": 21,
      "outputs": [
        {
          "output_type": "stream",
          "text": "(S\n  (GPE Asian/JJ)\n  shares/NNS\n  skidded/VBN\n  on/IN\n  Tuesday/NNP\n  after/IN\n  a/DT\n  rout/NN\n  in/IN\n  tech/JJ\n  stocks/NNS\n  put/VBD\n  (FACILITY Wall/NNP Street/NNP)\n  to/TO\n  the/DT\n  sword/NN\n  ,/,\n  while/IN\n  a/DT\n  sharp/JJ\n  drop/NN\n  in/IN\n  oil/NN\n  prices/NNS\n  and/CC\n  political/JJ\n  risks/NNS\n  in/IN\n  (GPE Europe/NNP)\n  pushed/VBD\n  the/DT\n  dollar/NN\n  to/TO\n  16-month/JJ\n  highs/NNS\n  as/IN\n  investors/NNS\n  dumped/VBD\n  riskier/JJR\n  assets/NNS\n  ./.\n  (ORGANIZATION MSCI/NNP)\n  ’/NNP\n  s/VBD\n  broadest/JJS\n  index/NN\n  of/IN\n  Asia-Pacific/NNP\n  shares/NNS\n  outside/IN\n  (GPE Japan/NNP)\n  dropped/VBD\n  1.7/CD\n  percent/NN\n  to/TO\n  a/DT\n  1-1/2/JJ\n  week/NN\n  trough/NN\n  ,/,\n  with/IN\n  (GPE Australian/JJ)\n  shares/NNS\n  sinking/VBG\n  1.6/CD\n  percent/NN\n  ./.\n  (PERSON Japan/NNP)\n  ’/NNP\n  s/VBD\n  (PERSON Nikkei/NNP)\n  dived/VBD\n  3.1/CD\n  percent/NN\n  led/VBN\n  by/IN\n  losses/NNS\n  in/IN\n  electric/JJ\n  machinery/NN\n  makers/NNS\n  and/CC\n  suppliers/NNS\n  of/IN\n  (PERSON Apple/NNP)\n  ’/NNP\n  s/VBD\n  iphone/NN\n  parts/NNS\n  ./.\n  (PERSON Sterling/NN)\n  fell/VBD\n  to/TO\n  $/$\n  1.286/CD\n  after/IN\n  three/CD\n  straight/JJ\n  sessions/NNS\n  of/IN\n  losses/NNS\n  took/VBD\n  it/PRP\n  to/TO\n  the/DT\n  lowest/JJS\n  since/IN\n  Nov.1/NNP\n  as/IN\n  there/EX\n  were/VBD\n  still/RB\n  considerable/JJ\n  unresolved/JJ\n  issues/NNS\n  with/IN\n  the/DT\n  (ORGANIZATION European/NNP Union/NNP)\n  over/IN\n  (GPE Brexit/NNP)\n  ,/,\n  (GPE British/NNP)\n  Prime/NNP\n  Minister/NNP\n  (PERSON Theresa/NNP May/NNP)\n  said/VBD\n  on/IN\n  Monday/NNP\n  ./.)\n",
          "name": "stdout"
        }
      ]
    },
    {
      "metadata": {
        "trusted": true
      },
      "cell_type": "code",
      "source": "for x in str(results).split('\\n'):\n    if '/NN' in x:\n        print(x)",
      "execution_count": 15,
      "outputs": [
        {
          "output_type": "stream",
          "text": "  shares/NNS\n  Tuesday/NNP\n  rout/NN\n  stocks/NNS\n  (FACILITY Wall/NNP Street/NNP)\n  sword/NN\n  drop/NN\n  oil/NN\n  prices/NNS\n  risks/NNS\n  (GPE Europe/NNP)\n  dollar/NN\n  highs/NNS\n  investors/NNS\n  assets/NNS\n  (ORGANIZATION MSCI/NNP)\n  ’/NNP\n  index/NN\n  Asia-Pacific/NNP\n  shares/NNS\n  (GPE Japan/NNP)\n  percent/NN\n  week/NN\n  trough/NN\n  shares/NNS\n  percent/NN\n  (PERSON Japan/NNP)\n  ’/NNP\n  (PERSON Nikkei/NNP)\n  percent/NN\n  losses/NNS\n  machinery/NN\n  makers/NNS\n  suppliers/NNS\n  (PERSON Apple/NNP)\n  ’/NNP\n  iphone/NN\n  parts/NNS\n  (PERSON Sterling/NN)\n  sessions/NNS\n  losses/NNS\n  Nov.1/NNP\n  issues/NNS\n  (ORGANIZATION European/NNP Union/NNP)\n  (GPE Brexit/NNP)\n  (GPE British/NNP)\n  Prime/NNP\n  Minister/NNP\n  (PERSON Theresa/NNP May/NNP)\n  Monday/NNP\n",
          "name": "stdout"
        }
      ]
    },
    {
      "metadata": {
        "trusted": true
      },
      "cell_type": "code",
      "source": "pattern = 'NP: {<DT>?<JJ>*<NN>}'\ncp = nltk.RegexpParser(pattern)\ncs = cp.parse(art_processed)\nprint(cs)",
      "execution_count": 17,
      "outputs": [
        {
          "output_type": "stream",
          "text": "(S\n  Asian/JJ\n  shares/NNS\n  skidded/VBN\n  on/IN\n  Tuesday/NNP\n  after/IN\n  (NP a/DT rout/NN)\n  in/IN\n  tech/JJ\n  stocks/NNS\n  put/VBD\n  Wall/NNP\n  Street/NNP\n  to/TO\n  (NP the/DT sword/NN)\n  ,/,\n  while/IN\n  (NP a/DT sharp/JJ drop/NN)\n  in/IN\n  (NP oil/NN)\n  prices/NNS\n  and/CC\n  political/JJ\n  risks/NNS\n  in/IN\n  Europe/NNP\n  pushed/VBD\n  (NP the/DT dollar/NN)\n  to/TO\n  16-month/JJ\n  highs/NNS\n  as/IN\n  investors/NNS\n  dumped/VBD\n  riskier/JJR\n  assets/NNS\n  ./.\n  MSCI/NNP\n  ’/NNP\n  s/VBD\n  broadest/JJS\n  (NP index/NN)\n  of/IN\n  Asia-Pacific/NNP\n  shares/NNS\n  outside/IN\n  Japan/NNP\n  dropped/VBD\n  1.7/CD\n  (NP percent/NN)\n  to/TO\n  (NP a/DT 1-1/2/JJ week/NN)\n  (NP trough/NN)\n  ,/,\n  with/IN\n  Australian/JJ\n  shares/NNS\n  sinking/VBG\n  1.6/CD\n  (NP percent/NN)\n  ./.\n  Japan/NNP\n  ’/NNP\n  s/VBD\n  Nikkei/NNP\n  dived/VBD\n  3.1/CD\n  (NP percent/NN)\n  led/VBN\n  by/IN\n  losses/NNS\n  in/IN\n  (NP electric/JJ machinery/NN)\n  makers/NNS\n  and/CC\n  suppliers/NNS\n  of/IN\n  Apple/NNP\n  ’/NNP\n  s/VBD\n  (NP iphone/NN)\n  parts/NNS\n  ./.\n  (NP Sterling/NN)\n  fell/VBD\n  to/TO\n  $/$\n  1.286/CD\n  after/IN\n  three/CD\n  straight/JJ\n  sessions/NNS\n  of/IN\n  losses/NNS\n  took/VBD\n  it/PRP\n  to/TO\n  the/DT\n  lowest/JJS\n  since/IN\n  Nov.1/NNP\n  as/IN\n  there/EX\n  were/VBD\n  still/RB\n  considerable/JJ\n  unresolved/JJ\n  issues/NNS\n  with/IN\n  the/DT\n  European/NNP\n  Union/NNP\n  over/IN\n  Brexit/NNP\n  ,/,\n  British/NNP\n  Prime/NNP\n  Minister/NNP\n  Theresa/NNP\n  May/NNP\n  said/VBD\n  on/IN\n  Monday/NNP\n  ./.)\n",
          "name": "stdout"
        }
      ]
    },
    {
      "metadata": {
        "trusted": true
      },
      "cell_type": "code",
      "source": "iob_tagged = tree2conlltags(cs)\npprint(iob_tagged)",
      "execution_count": 18,
      "outputs": [
        {
          "output_type": "stream",
          "text": "[('Asian', 'JJ', 'O'),\n ('shares', 'NNS', 'O'),\n ('skidded', 'VBN', 'O'),\n ('on', 'IN', 'O'),\n ('Tuesday', 'NNP', 'O'),\n ('after', 'IN', 'O'),\n ('a', 'DT', 'B-NP'),\n ('rout', 'NN', 'I-NP'),\n ('in', 'IN', 'O'),\n ('tech', 'JJ', 'O'),\n ('stocks', 'NNS', 'O'),\n ('put', 'VBD', 'O'),\n ('Wall', 'NNP', 'O'),\n ('Street', 'NNP', 'O'),\n ('to', 'TO', 'O'),\n ('the', 'DT', 'B-NP'),\n ('sword', 'NN', 'I-NP'),\n (',', ',', 'O'),\n ('while', 'IN', 'O'),\n ('a', 'DT', 'B-NP'),\n ('sharp', 'JJ', 'I-NP'),\n ('drop', 'NN', 'I-NP'),\n ('in', 'IN', 'O'),\n ('oil', 'NN', 'B-NP'),\n ('prices', 'NNS', 'O'),\n ('and', 'CC', 'O'),\n ('political', 'JJ', 'O'),\n ('risks', 'NNS', 'O'),\n ('in', 'IN', 'O'),\n ('Europe', 'NNP', 'O'),\n ('pushed', 'VBD', 'O'),\n ('the', 'DT', 'B-NP'),\n ('dollar', 'NN', 'I-NP'),\n ('to', 'TO', 'O'),\n ('16-month', 'JJ', 'O'),\n ('highs', 'NNS', 'O'),\n ('as', 'IN', 'O'),\n ('investors', 'NNS', 'O'),\n ('dumped', 'VBD', 'O'),\n ('riskier', 'JJR', 'O'),\n ('assets', 'NNS', 'O'),\n ('.', '.', 'O'),\n ('MSCI', 'NNP', 'O'),\n ('’', 'NNP', 'O'),\n ('s', 'VBD', 'O'),\n ('broadest', 'JJS', 'O'),\n ('index', 'NN', 'B-NP'),\n ('of', 'IN', 'O'),\n ('Asia-Pacific', 'NNP', 'O'),\n ('shares', 'NNS', 'O'),\n ('outside', 'IN', 'O'),\n ('Japan', 'NNP', 'O'),\n ('dropped', 'VBD', 'O'),\n ('1.7', 'CD', 'O'),\n ('percent', 'NN', 'B-NP'),\n ('to', 'TO', 'O'),\n ('a', 'DT', 'B-NP'),\n ('1-1/2', 'JJ', 'I-NP'),\n ('week', 'NN', 'I-NP'),\n ('trough', 'NN', 'B-NP'),\n (',', ',', 'O'),\n ('with', 'IN', 'O'),\n ('Australian', 'JJ', 'O'),\n ('shares', 'NNS', 'O'),\n ('sinking', 'VBG', 'O'),\n ('1.6', 'CD', 'O'),\n ('percent', 'NN', 'B-NP'),\n ('.', '.', 'O'),\n ('Japan', 'NNP', 'O'),\n ('’', 'NNP', 'O'),\n ('s', 'VBD', 'O'),\n ('Nikkei', 'NNP', 'O'),\n ('dived', 'VBD', 'O'),\n ('3.1', 'CD', 'O'),\n ('percent', 'NN', 'B-NP'),\n ('led', 'VBN', 'O'),\n ('by', 'IN', 'O'),\n ('losses', 'NNS', 'O'),\n ('in', 'IN', 'O'),\n ('electric', 'JJ', 'B-NP'),\n ('machinery', 'NN', 'I-NP'),\n ('makers', 'NNS', 'O'),\n ('and', 'CC', 'O'),\n ('suppliers', 'NNS', 'O'),\n ('of', 'IN', 'O'),\n ('Apple', 'NNP', 'O'),\n ('’', 'NNP', 'O'),\n ('s', 'VBD', 'O'),\n ('iphone', 'NN', 'B-NP'),\n ('parts', 'NNS', 'O'),\n ('.', '.', 'O'),\n ('Sterling', 'NN', 'B-NP'),\n ('fell', 'VBD', 'O'),\n ('to', 'TO', 'O'),\n ('$', '$', 'O'),\n ('1.286', 'CD', 'O'),\n ('after', 'IN', 'O'),\n ('three', 'CD', 'O'),\n ('straight', 'JJ', 'O'),\n ('sessions', 'NNS', 'O'),\n ('of', 'IN', 'O'),\n ('losses', 'NNS', 'O'),\n ('took', 'VBD', 'O'),\n ('it', 'PRP', 'O'),\n ('to', 'TO', 'O'),\n ('the', 'DT', 'O'),\n ('lowest', 'JJS', 'O'),\n ('since', 'IN', 'O'),\n ('Nov.1', 'NNP', 'O'),\n ('as', 'IN', 'O'),\n ('there', 'EX', 'O'),\n ('were', 'VBD', 'O'),\n ('still', 'RB', 'O'),\n ('considerable', 'JJ', 'O'),\n ('unresolved', 'JJ', 'O'),\n ('issues', 'NNS', 'O'),\n ('with', 'IN', 'O'),\n ('the', 'DT', 'O'),\n ('European', 'NNP', 'O'),\n ('Union', 'NNP', 'O'),\n ('over', 'IN', 'O'),\n ('Brexit', 'NNP', 'O'),\n (',', ',', 'O'),\n ('British', 'NNP', 'O'),\n ('Prime', 'NNP', 'O'),\n ('Minister', 'NNP', 'O'),\n ('Theresa', 'NNP', 'O'),\n ('May', 'NNP', 'O'),\n ('said', 'VBD', 'O'),\n ('on', 'IN', 'O'),\n ('Monday', 'NNP', 'O'),\n ('.', '.', 'O')]\n",
          "name": "stdout"
        }
      ]
    }
  ],
  "metadata": {
    "kernelspec": {
      "name": "python36",
      "display_name": "Python 3.6",
      "language": "python"
    },
    "language_info": {
      "mimetype": "text/x-python",
      "nbconvert_exporter": "python",
      "name": "python",
      "pygments_lexer": "ipython3",
      "version": "3.6.6",
      "file_extension": ".py",
      "codemirror_mode": {
        "version": 3,
        "name": "ipython"
      }
    }
  },
  "nbformat": 4,
  "nbformat_minor": 2
}