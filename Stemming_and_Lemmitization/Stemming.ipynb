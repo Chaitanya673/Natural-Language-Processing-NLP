{
  "cells": [
    {
      "metadata": {
        "trusted": true
      },
      "cell_type": "code",
      "source": "import nltk",
      "execution_count": 2,
      "outputs": []
    },
    {
      "metadata": {},
      "cell_type": "markdown",
      "source": "## Porter Stemmer"
    },
    {
      "metadata": {
        "trusted": true
      },
      "cell_type": "code",
      "source": "from nltk.stem.porter import PorterStemmer\nporstem = PorterStemmer()\n# Try some stems\nprint('drive: {}'.format(porstem.stem('drive')))\nprint('drives: {}'.format(porstem.stem('drives')))\nprint('driver: {}'.format(porstem.stem('driver')))\nprint('drivers: {}'.format(porstem.stem('drivers')))\nprint('driven: {}'.format(porstem.stem('driven')))\nprint('driving: {}'.format(porstem.stem('driving')))",
      "execution_count": 9,
      "outputs": [
        {
          "output_type": "stream",
          "text": "drive: drive\ndrives: drive\ndriver: driver\ndrivers: driver\ndriven: driven\ndriving: drive\n",
          "name": "stdout"
        }
      ]
    },
    {
      "metadata": {
        "trusted": true
      },
      "cell_type": "code",
      "source": "word_to_stem = [\"drive\", \"drives\", \"driver\", \"drivers\", \"driven\", \"driving\"]\nfor words in word_to_stem:\n    print(words + \":\" + porstem.stem(words))",
      "execution_count": 10,
      "outputs": [
        {
          "output_type": "stream",
          "text": "drive:drive\ndrives:drive\ndriver:driver\ndrivers:driver\ndriven:driven\ndriving:drive\n",
          "name": "stdout"
        }
      ]
    },
    {
      "metadata": {},
      "cell_type": "markdown",
      "source": "## LancasterStemmer"
    },
    {
      "metadata": {
        "trusted": true
      },
      "cell_type": "code",
      "source": "from nltk.stem.lancaster import LancasterStemmer\nlanstem = LancasterStemmer()\n# Try some stems\nprint('drive: {}'.format(lanstem.stem('drive')))\nprint('drives: {}'.format(lanstem.stem('drives')))\nprint('driver: {}'.format(lanstem.stem('driver')))\nprint('drivers: {}'.format(lanstem.stem('drivers')))\nprint('driven: {}'.format(lanstem.stem('driven')))\nprint('driving: {}'.format(lanstem.stem('driving')))",
      "execution_count": 7,
      "outputs": [
        {
          "output_type": "stream",
          "text": "drive: driv\ndrives: driv\ndriver: driv\ndrivers: driv\ndriven: driv\ndriving: driv\n",
          "name": "stdout"
        }
      ]
    },
    {
      "metadata": {
        "trusted": true
      },
      "cell_type": "code",
      "source": "word_to_stem = [\"drive\", \"drives\", \"driver\", \"drivers\", \"driven\", \"driving\"]\nfor words in word_to_stem:\n    print(words + \":\" + lanstem.stem(words))",
      "execution_count": 11,
      "outputs": [
        {
          "output_type": "stream",
          "text": "drive:driv\ndrives:driv\ndriver:driv\ndrivers:driv\ndriven:driv\ndriving:driv\n",
          "name": "stdout"
        }
      ]
    },
    {
      "metadata": {},
      "cell_type": "markdown",
      "source": "## Snowball Stemmer"
    },
    {
      "metadata": {
        "trusted": true
      },
      "cell_type": "code",
      "source": "from nltk.stem.snowball import SnowballStemmer\nsnostem = SnowballStemmer('english')\n# Try some stems\nprint('drive: {}'.format(snostem.stem('drive')))\nprint('drives: {}'.format(snostem.stem('drives')))\nprint('driver: {}'.format(snostem.stem('driver')))\nprint('drivers: {}'.format(snostem.stem('drivers')))\nprint('driven: {}'.format(snostem.stem('driven')))\nprint('driving: {}'.format(snostem.stem('driving')))",
      "execution_count": 12,
      "outputs": [
        {
          "output_type": "stream",
          "text": "drive: drive\ndrives: drive\ndriver: driver\ndrivers: driver\ndriven: driven\ndriving: drive\n",
          "name": "stdout"
        }
      ]
    },
    {
      "metadata": {},
      "cell_type": "markdown",
      "source": "## Compare Porter Stemmer, LancasterStemmer and Snowball Stemmer"
    },
    {
      "metadata": {
        "trusted": true
      },
      "cell_type": "code",
      "source": "def stemm(word):\n    print(\"Porter Stemmer\" + \":\" + porstem.stem(word))\n    print(\"LancasterStemmer\" + \":\" + lanstem.stem(word))\n    print(\"Snowball Stemmer\" + \":\" + snostem.stem(word))\n    \n    return\n\nstemm('data')\nprint(\"-----------------------\")\nstemm('driving')",
      "execution_count": 22,
      "outputs": [
        {
          "output_type": "stream",
          "text": "Porter Stemmer:data\nLancasterStemmer:dat\nSnowball Stemmer:data\n-----------------------\nPorter Stemmer:drive\nLancasterStemmer:driv\nSnowball Stemmer:drive\n",
          "name": "stdout"
        }
      ]
    }
  ],
  "metadata": {
    "kernelspec": {
      "name": "python36",
      "display_name": "Python 3.6",
      "language": "python"
    },
    "language_info": {
      "mimetype": "text/x-python",
      "nbconvert_exporter": "python",
      "name": "python",
      "pygments_lexer": "ipython3",
      "version": "3.6.6",
      "file_extension": ".py",
      "codemirror_mode": {
        "version": 3,
        "name": "ipython"
      }
    }
  },
  "nbformat": 4,
  "nbformat_minor": 1
}